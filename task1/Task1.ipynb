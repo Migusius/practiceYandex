{
 "cells": [
  {
   "cell_type": "code",
   "execution_count": null,
   "metadata": {},
   "outputs": [],
   "source": [
    "import pytesseract,re,os\n",
    "from PIL import ImageOps, Image\n",
    "from collections import defaultdict\n",
    "from functools import reduce\n",
    "import numpy as np\n",
    "%config IPCompleter.greedy=True\n",
    "pytesseract.pytesseract.tesseract_cmd = r'C:\\Program Files\\Tesseract-OCR\\tesseract.exe'\n",
    "\n"
   ]
  },
  {
   "cell_type": "code",
   "execution_count": null,
   "metadata": {},
   "outputs": [],
   "source": [
    "img = Image.open(\"blandwh.png\")\n"
   ]
  },
  {
   "cell_type": "code",
   "execution_count": null,
   "metadata": {},
   "outputs": [],
   "source": [
    "num = 1\n",
    "map = defaultdict(int)\n",
    "indexes = defaultdict(list)\n",
    "for i in range(1,img.height,100):\n",
    "    for j in range(1, img.width,100):\n",
    "        border = (1+i, 1+j, 99+i, 99+j)\n",
    "        #Обрезка и сохранение фрагмента картинки\n",
    "        ims = img.crop(border)\n",
    "        ims.save(\"CroppedImages/\"+str(num)+\".png\")\n",
    "        #Распознавание текста на фрагмнте\n",
    "        text = pytesseract.image_to_string(Image.open('CroppedImages/'+str(num)+'.png'))\n",
    "        map[text] += 1\n",
    "        indexes[text].append(num)\n",
    "        num +=1 "
   ]
  },
  {
   "cell_type": "code",
   "execution_count": 157,
   "metadata": {},
   "outputs": [],
   "source": [
    "fixedMap = defaultdict(int)\n",
    "fixedIndexes = defaultdict(list)\n",
    "for i in map.keys():\n",
    "    newkey = (re.sub(\"[\\n\\(\\)\\,]\",' ', i))\n",
    "    if((re.search(\"[0-9]+\",newkey)) and( not re.search(\"[R]+\",newkey))):\n",
    "        # Если на картинке распознались цифры, считаем, если сумма больше 150, то на картинке белый цвет, иначе черный\n",
    "        sum = int(reduce(lambda x, y: int(x)+int(y), re.findall(\"[0-9]+\",newkey)))\n",
    "        if(sum>150):\n",
    "            fixedMap[\"White_\"]+=map[i]\n",
    "            fixedIndexes[\"White_\"]+=(indexes[i])\n",
    "        else:\n",
    "            fixedMap[\"Black_\"]+=map[i]\n",
    "            fixedIndexes[\"Black_\"]+=(indexes[i])\n",
    "    else:\n",
    "        fixedMap[newkey] +=map[i]\n",
    "        fixedIndexes[newkey]+=(indexes[i])\n"
   ]
  },
  {
   "cell_type": "code",
   "execution_count": 158,
   "metadata": {},
   "outputs": [],
   "source": [
    "Black = ['Black', 'Blackest cell ever', 'Very black', 'Bie for black', \n",
    "         'Barkness', 'Darkness', 'Black_', 'B is for black', \n",
    "         'Not white', 'Blackeet cell ever', 'Blackest cellever',\n",
    "         'Bis for black', 'Darknese', \n",
    "         '‘Blackest cell ever', 'very black', \n",
    "         'Notwhite', 'Bis for olack',  '®is for olack', 'eBlack', ]"
   ]
  },
  {
   "cell_type": "code",
   "execution_count": 159,
   "metadata": {},
   "outputs": [],
   "source": [
    "for i in fixedMap.keys():\n",
    "    to = \"\"\n",
    "    if(i in Black):\n",
    "        to = \"Black/\"\n",
    "    else:\n",
    "        to = \"White/\"\n",
    "    for file in fixedIndexes[i]:\n",
    "        try:\n",
    "            os.rename(\"CroppedImages/\"+str(file)+\".png\",to+str(file)+\".png\") \n",
    "        except WindowsError:\n",
    "            o =2\n",
    "        "
   ]
  },
  {
   "cell_type": "code",
   "execution_count": 160,
   "metadata": {},
   "outputs": [],
   "source": [
    "a = [0]*1369"
   ]
  },
  {
   "cell_type": "code",
   "execution_count": 161,
   "metadata": {},
   "outputs": [],
   "source": [
    "for i in range(1369):\n",
    "    try:\n",
    "        Image.open(\"Black/\"+str(i+1)+\".png\")\n",
    "        a[i] = 0\n",
    "    except FileNotFoundError:\n",
    "        a[i] = 255"
   ]
  },
  {
   "cell_type": "code",
   "execution_count": 162,
   "metadata": {},
   "outputs": [
    {
     "data": {
      "image/png": "[encoded data removed]",
      "text/plain": [
       "<PIL.Image.Image image mode=RGB size=300x300 at 0x1CF920719E8>"
      ]
     },
     "execution_count": 162,
     "metadata": {},
     "output_type": "execute_result"
    }
   ],
   "source": [
    "import numpy as np\n",
    "import scipy.misc as smp\n",
    "qrData = np.zeros( (37,37,3), dtype=np.uint8 )\n",
    "for i in range(37):\n",
    "    for j in range(37):\n",
    "        qrData[j][i] = [a[i*37+j],a[i*37+j],a[i*37+j]]\n",
    "qrImage = Image.fromarray(qrData)\n",
    "qrImage = qrImage.resize((300,300))\n",
    "qrImage.save(\"result.bmp\")\n",
    "qrImage"
   ]
  },
  {
   "cell_type": "code",
   "execution_count": null,
   "metadata": {},
   "outputs": [],
   "source": []
  }
 ],
 "metadata": {
  "kernelspec": {
   "display_name": "Python 3",
   "language": "python",
   "name": "python3"
  },
  "language_info": {
   "codemirror_mode": {
    "name": "ipython",
    "version": 3
   },
   "file_extension": ".py",
   "mimetype": "text/x-python",
   "name": "python",
   "nbconvert_exporter": "python",
   "pygments_lexer": "ipython3",
   "version": "3.6.5"
  }
 },
 "nbformat": 4,
 "nbformat_minor": 2
}
